{
  "nbformat": 4,
  "nbformat_minor": 0,
  "metadata": {
    "colab": {
      "provenance": [],
      "toc_visible": true
    },
    "kernelspec": {
      "name": "python3",
      "display_name": "Python 3"
    },
    "language_info": {
      "name": "python"
    }
  },
  "cells": [
    {
      "cell_type": "markdown",
      "source": [
        "Punto 1"
      ],
      "metadata": {
        "id": "pTc8znmYO7RD"
      }
    },
    {
      "cell_type": "code",
      "source": [
        "def promedio(list_num):\n",
        "    suma = 0  # Inicializar la variable suma\n",
        "    for n in list_num:\n",
        "        suma += n  # Acumular la suma\n",
        "    return suma / len(list_num)\n",
        "\n",
        "if __name__ == \"__main__\":\n",
        "    numeros = input(\"Ingresa tus números separados por espacios: \")\n",
        "    list_num = list(map(float, numeros.split()))  # Convertir la entrada en lista de flotantes\n",
        "    print(\"Lista ingresada:\", list_num)\n",
        "    print(\"El promedio es:\", promedio(list_num))  # Llamada a la función"
      ],
      "metadata": {
        "id": "7frW4_AaO9ns"
      },
      "execution_count": null,
      "outputs": []
    },
    {
      "cell_type": "markdown",
      "source": [
        "Punto 2"
      ],
      "metadata": {
        "id": "1_6bAF0jPBbP"
      }
    },
    {
      "cell_type": "code",
      "source": [
        "def producto_punto(arreglo1, arreglo2):\n",
        "    productoPunto = sum(x*y for x,y in zip (arreglo1, arreglo2))\n",
        "    #Zip toma las dos listas y las ordena.\n",
        "    #El for recorre las listas multiplicando los términos en ambos índices.\n",
        "    #Sum suma la multiplicación obtenida la cual se almacena en productoPunto.\n",
        "    return productoPunto\n",
        "\n",
        "if __name__ == \"__main__\":\n",
        "    #Se ingresan los datos\n",
        "    cadena1 = input (\"Ingrese una secuencia de números enteros: \")\n",
        "    cadena2 = input (\"Ingrese una secuencia de números enteros con la misma longitud:\")\n",
        "    #Se convierten ambos datos entrantes como listas de enteros.\n",
        "    arreglo1 = list (map(int, cadena1.split()))\n",
        "    arreglo2 = list (map(int, cadena2.split()))\n",
        "    #Se llama a la función y se imprime el resultado\n",
        "    print(\"El producto punto es:\", producto_punto(arreglo1, arreglo2))"
      ],
      "metadata": {
        "id": "-kOInFDaPCrl"
      },
      "execution_count": null,
      "outputs": []
    },
    {
      "cell_type": "markdown",
      "source": [
        "Punto 3"
      ],
      "metadata": {
        "id": "nOH83baZTQh_"
      }
    },
    {
      "cell_type": "code",
      "source": [
        "def movimientoCeros(arregloUno):\n",
        "    # De arregloUno elimina todas las veces que aparece un \"0\".\n",
        "    # Guarda ese nuevo arreglo sin \"0\"\n",
        "    #Cuenta las veces que eliminó \"0\".\n",
        "    #Crea una nueva lista acorde a las n veces que eliminó \"0\".\n",
        "    #Agrega esa nueva lista a la lista original.\n",
        "    return [x for x in arregloUno if x != 0] + [0] * arregloUno.contadordeceros(0)\n",
        "\n",
        "if __name__ == \"__main__\":\n",
        "    #Se ingresa la secuencia o cadena\n",
        "    cadena1 = input (\"Ingrese una secuencia de números enteros: \")\n",
        "    #Se cambia los datos ingresados a listas.\n",
        "    arregloUno = list (map(int, cadena1.split()))\n",
        "    #Se llama la función encargada de mover los 0, e imprime\n",
        "    print(\"Lista con los ceros al final:\", movimientoCeros(arregloUno))"
      ],
      "metadata": {
        "id": "a1GI6eS0TRtO"
      },
      "execution_count": null,
      "outputs": []
    }
  ]
}